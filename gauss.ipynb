{
 "cells": [
  {
   "cell_type": "code",
   "execution_count": null,
   "metadata": {},
   "outputs": [],
   "source": [
    "def gauss(myX, mymu, mysig2):\n",
    "    \"\"\"\n",
    "    Function to compute the gaussian return values for a feature\n",
    "    matrix, myX, given the already computed mu vector and sigma matrix.\n",
    "    If sigma is a vector, it is turned into a diagonal matrix\n",
    "    Uses a loop over rows; I didn't quite figure out a vectorized implementation.\n",
    "    \"\"\"\n",
    "    m = myX.shape[0]\n",
    "    n = myX.shape[1]\n",
    "    if np.ndim(mysig2) == 1:\n",
    "        mysig2 = np.diag(mysig2)\n",
    "\n",
    "    norm = 1./(np.power((2*np.pi), n/2)*np.sqrt(np.linalg.det(mysig2)))\n",
    "    myinv = np.linalg.inv(mysig2)\n",
    "    myexp = np.zeros((m,1))\n",
    "    for irow in xrange(m):\n",
    "        xrow = myX[irow]\n",
    "        myexp[irow] = np.exp(-0.5*((xrow-mymu).T).dot(myinv).dot(xrow-mymu))\n",
    "    return norm*myexp"
   ]
  }
 ],
 "metadata": {
  "kernelspec": {
   "display_name": "Python 3",
   "language": "python",
   "name": "python3"
  },
  "language_info": {
   "codemirror_mode": {
    "name": "ipython",
    "version": 3
   },
   "file_extension": ".py",
   "mimetype": "text/x-python",
   "name": "python",
   "nbconvert_exporter": "python",
   "pygments_lexer": "ipython3",
   "version": "3.5.2"
  }
 },
 "nbformat": 4,
 "nbformat_minor": 2
}
