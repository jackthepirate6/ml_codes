{
 "cells": [
  {
   "cell_type": "code",
   "execution_count": null,
   "metadata": {},
   "outputs": [],
   "source": [
    "def computeF1(predVec, trueVec):\n",
    "    \"\"\"\n",
    "    F1 = 2 * (P*R)/(P+R)\n",
    "    where P is precision, R is recall\n",
    "    Precision = \"of all predicted y=1, what fraction had true y=1\"\n",
    "    Recall = \"of all true y=1, what fraction predicted y=1?\n",
    "    Note predictionVec and trueLabelVec should be boolean vectors.\n",
    "    \"\"\"\n",
    "    #print predVec.shape\n",
    "    #print trueVec.shape\n",
    "    #assert predVec.shape == trueVec.shape\n",
    "    \n",
    "    P, R = 0., 0.\n",
    "    if float(np.sum(predVec)):\n",
    "        P = np.sum([int(trueVec[x]) for x in xrange(predVec.shape[0]) \\\n",
    "                    if predVec[x]]) / float(np.sum(predVec))\n",
    "    if float(np.sum(trueVec)):\n",
    "        R = np.sum([int(predVec[x]) for x in xrange(trueVec.shape[0]) \\\n",
    "                    if trueVec[x]]) / float(np.sum(trueVec))\n",
    "        \n",
    "    return 2*P*R/(P+R) if (P+R) else 0\n"
   ]
  }
 ],
 "metadata": {
  "kernelspec": {
   "display_name": "Python 2",
   "language": "python",
   "name": "python2"
  },
  "language_info": {
   "codemirror_mode": {
    "name": "ipython",
    "version": 2
   },
   "file_extension": ".py",
   "mimetype": "text/x-python",
   "name": "python",
   "nbconvert_exporter": "python",
   "pygments_lexer": "ipython2",
   "version": "2.7.12"
  }
 },
 "nbformat": 4,
 "nbformat_minor": 2
}
