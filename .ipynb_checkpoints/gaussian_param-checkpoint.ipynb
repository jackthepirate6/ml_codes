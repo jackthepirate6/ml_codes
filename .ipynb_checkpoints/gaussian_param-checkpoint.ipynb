{
 "cells": [
  {
   "cell_type": "code",
   "execution_count": null,
   "metadata": {},
   "outputs": [],
   "source": [
    "def getGaussianParams(myX,useMultivariate = True):\n",
    "    \"\"\"\n",
    "    Function that given a feature matrix X that is (m x n)\n",
    "    returns a mean vector and a sigmasquared vector that are\n",
    "    both (n x 1) in shape.\n",
    "    This can do it either as a 1D gaussian for each feature,\n",
    "    or as a multivariate gaussian.\n",
    "    \"\"\"\n",
    "    m = myX.shape[0]\n",
    "    mu = np.mean(myX,axis=0)\n",
    "    if not useMultivariate:\n",
    "        sigma2 = np.sum(np.square(myX-mu),axis=0)/float(m)\n",
    "        return mu, sigma2\n",
    "    else:\n",
    "        sigma2 = ((myX-mu).T.dot(myX-mu))/float(m)\n",
    "        return mu, sigma2"
   ]
  }
 ],
 "metadata": {
  "kernelspec": {
   "display_name": "Python 2",
   "language": "python",
   "name": "python2"
  },
  "language_info": {
   "codemirror_mode": {
    "name": "ipython",
    "version": 2
   },
   "file_extension": ".py",
   "mimetype": "text/x-python",
   "name": "python",
   "nbconvert_exporter": "python",
   "pygments_lexer": "ipython2",
   "version": "2.7.12"
  }
 },
 "nbformat": 4,
 "nbformat_minor": 2
}
